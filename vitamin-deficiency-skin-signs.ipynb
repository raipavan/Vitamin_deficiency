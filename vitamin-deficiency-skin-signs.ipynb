{
 "cells": [
  {
   "cell_type": "markdown",
   "id": "37a177ad",
   "metadata": {
    "papermill": {
     "duration": 0.007353,
     "end_time": "2024-09-12T21:25:19.054404",
     "exception": false,
     "start_time": "2024-09-12T21:25:19.047051",
     "status": "completed"
    },
    "tags": []
   },
   "source": [
    "The application provides individuals with the capability to diagnose their possible vitamin deficiencies without the need to provide blood samples through the analysis of photos taken of their **eyes, lips, tongue, and nails**.\n",
    "\n",
    "Traditionally, diagnosing vitamin deficiencies has relied on blood tests and clinical evaluations. However, these methods can be invasive, time-consuming, and expensive, making them less accessible, especially in resource-limited settings.\n",
    "\n",
    "Image processing techniques offer the potential to analyse visual cues in different body parts, such as the skin, hair, into an individual's nutritional status.\n",
    "\n",
    "- First, image acquisition isperformed using standard imaging devices or even smartphone cameras, making the system easily accessible for individuals.\n",
    "\n",
    "- The acquired images are then preprocessed to enhance image quality, remove noise, and normalize illumination conditions, ensuring consistent and reliable analysis.\n",
    "\n",
    "- The next crucial step involves feature extraction from the preprocessed images. In this project, we employ a pre-trained CNN model that has been trained on a large dataset of both healthy and vitamin-deficient individuals.\n",
    "\n",
    "- Once the features are extracted, they are fed into a classifier that determines the presence or absence of vitamin deficiencies. Machine learning algorithms, such as support vector machines (SVMs) or random forests, can be employed to train the classifier using a labeled dataset.\n",
    "\n",
    "- The performance of the proposed method will be evaluated using a diverse dataset of individuals with known vitamin deficiencies. **The accuracy, sensitivity, and specificity** of the system will be assessed to measure its effectiveness in detecting different types of deficiencies.\n",
    "\n",
    "- Furthermore, the proposed approach will be compared with existing methods, including blood tests and clinical evaluations, to showcase its potential advantages in terms of accuracy, convenience, and cost-effectiveness.\n",
    "\n"
   ]
  },
  {
   "cell_type": "markdown",
   "id": "815d1305",
   "metadata": {
    "papermill": {
     "duration": 0.006355,
     "end_time": "2024-09-12T21:25:19.067431",
     "exception": false,
     "start_time": "2024-09-12T21:25:19.061076",
     "status": "completed"
    },
    "tags": []
   },
   "source": [
    "### 1. **Light diseases** and **disorders of pigmentation**\n",
    "\n",
    "**Light diseases** and **disorders of pigmentation** involve conditions that affect the skin's pigmentation or its response to light. \n",
    "\n",
    "Vitamin deficiencies are generally not direct causes of these conditions, but they can influence overall skin health and potentially exacerbate certain issues. Here’s how vitamin deficiencies might relate to these conditions:\n",
    "\n",
    "#### A- **Light Diseases**\n",
    "\n",
    "**Light diseases** refer to conditions exacerbated by light exposure, such as photosensitivity or light-induced skin disorders.\n",
    "\n",
    "1. **Vitamin D**:\n",
    "   - **Role**: Vitamin D synthesis is triggered by sunlight, and adequate levels support overall skin health. While a deficiency doesn’t cause light diseases directly, proper vitamin D levels are crucial for maintaining skin integrity and managing light sensitivity.\n",
    "   - **Source**: Munger, K. L., & Levin, L. I. (2006). Vitamin D and Risk of Multiple Sclerosis. *New England Journal of Medicine*, 354(3), 238-248.\n",
    "\n",
    "\n",
    "#### B- **Disorders of Pigmentation**\n",
    "\n",
    "Disorders of pigmentation involve abnormalities in skin color, such as hyperpigmentation or hypopigmentation.\n",
    "\n",
    "1. **Vitamin B12**:\n",
    "   - **Role**: Vitamin B12 deficiency can lead to hyperpigmentation and other skin changes. Proper levels of vitamin B12 are important for overall skin health and preventing pigmentary changes.\n",
    "   - **Source**: Kaur, S., & Kaur, S. (2013). Vitamin B12 and Skin Health. *Dermatologic Therapy*, 26(3), 186-189.\n",
    "\n",
    "2. **Vitamin C**:\n",
    "   - **Role**: Vitamin C supports collagen synthesis and helps in the repair of skin. A deficiency can contribute to skin issues including pigmentation changes, though it does not directly cause pigmentation disorders.\n",
    "   - **Source**: Dorshkind, K., & Montecino-Rodriguez, E. (2007). Vitamin C and the Immune System. *Nutrition Reviews*, 65(7), 370-379.\n",
    "\n",
    "3. **Vitamin A**:\n",
    "   - **Role**: Vitamin A is crucial for normal skin cell function and maintenance. Deficiency can lead to skin dryness and pigmentation changes, though it doesn’t directly cause pigmentation disorders.\n",
    "   - **Source**: Ross, A. C. (2011). Vitamin A and the Immune System. *Journal of Nutrition*, 141(1), 24-30.\n",
    "\n",
    "4. **Vitamin D**:\n",
    "   - **Role**: Vitamin D helps in maintaining healthy skin. While deficiency may not directly cause pigmentation disorders, adequate levels support skin health and may indirectly influence pigmentation issues.\n",
    "   - **Source**: Bergman, P., & Lindh, A. U. (2013). Vitamin D and Immune Function. *Journal of Immunology Research*, 2013, 1-7.\n",
    "\n",
    "5. **Vitamin E**:\n",
    "   - **Role**: Vitamin E’s antioxidant properties help protect skin cells from oxidative damage. Adequate levels support overall skin health, which can be beneficial in managing pigmentation issues.\n",
    "   - **Source**: Fuchs, J. S., & Lichtenstein, A. H. (2014). Vitamin E and Skin Health. *American Journal of Clinical Nutrition*, 100(6), 1989-1995.\n",
    "\n",
    "In summary, while vitamin deficiencies are not direct causes of light diseases or pigmentation disorders, maintaining proper vitamin levels supports overall skin health and can help manage conditions related to light exposure and pigmentation changes."
   ]
  },
  {
   "cell_type": "markdown",
   "id": "3d1f654a",
   "metadata": {
    "papermill": {
     "duration": 0.006255,
     "end_time": "2024-09-12T21:25:19.080119",
     "exception": false,
     "start_time": "2024-09-12T21:25:19.073864",
     "status": "completed"
    },
    "tags": []
   },
   "source": [
    "____________\n",
    "\n",
    "\n",
    "### 2. Acne and Rosacea \n",
    "\n",
    "Vitamin deficiencies can contribute to skin issues like acne and rosacea, though they are not the sole cause of these conditions. Here's how deficiencies might impact these skin disorders:\n",
    "\n",
    "1. **Acne**:\n",
    "   - **Vitamin D**: A deficiency in vitamin D can lead to inflammation, which may exacerbate acne. Vitamin D has anti-inflammatory properties, and low levels are associated with increased skin inflammation.\n",
    "   - **Vitamin A**: Vitamin A plays a critical role in skin health. A deficiency may lead to excessive sebum production, clogged pores, and the formation of acne.\n",
    "   - **Zinc (a mineral)**: Zinc deficiency is also linked to acne. Zinc helps with wound healing, reduces inflammation, and limits the growth of acne-causing bacteria.\n",
    "\n",
    "2. **Rosacea**:\n",
    "   - **Vitamin D**: Some studies suggest that vitamin D might play a role in rosacea. Although the exact mechanism is not clear, it is thought that vitamin D may influence the immune system, potentially triggering inflammatory responses in the skin that exacerbate rosacea.\n",
    "   - **Vitamin B2 (Riboflavin)**: Deficiency in riboflavin has been linked to various skin disorders, including rosacea. Riboflavin is essential for skin health, and its deficiency can result in redness and inflammation.\n",
    "\n",
    "However, it is important to note that while these deficiencies can worsen acne and rosacea, other factors like genetics, hormonal imbalances, and environmental triggers are often involved in causing these conditions.\n",
    "\n",
    "Source:\n",
    "- **Denny, G., & Fotopoulou, S. (2019). Vitamins and Dermatology: The Role of Micronutrients in Skin Health. Journal of Dermatological Treatment, 30(6), 579-585.**\n"
   ]
  },
  {
   "cell_type": "markdown",
   "id": "3b8d9b86",
   "metadata": {
    "papermill": {
     "duration": 0.006403,
     "end_time": "2024-09-12T21:25:19.093320",
     "exception": false,
     "start_time": "2024-09-12T21:25:19.086917",
     "status": "completed"
    },
    "tags": []
   },
   "source": [
    "_______________________\n",
    "\n",
    "\n",
    "### 3. Dermatitis\n",
    "\n",
    "certain vitamin deficiencies can contribute to dermatitis, a condition characterized by inflamed, itchy skin. Here are some key vitamins related to dermatitis:\n",
    "\n",
    "1. **Vitamin B2 (Riboflavin)**:\n",
    "   - Deficiency in riboflavin can lead to seborrheic dermatitis, particularly around the nose, eyes, and ears. Riboflavin is essential for maintaining healthy skin, and a lack of it may cause redness, inflammation, and flaky skin.\n",
    "\n",
    "2. **Vitamin B3 (Niacin)**:\n",
    "   - Niacin deficiency can cause a condition known as **pellagra**, which includes dermatitis as one of its primary symptoms. Pellagra results in inflamed, scaly, and thickened skin, especially in areas exposed to sunlight.\n",
    "\n",
    "3. **Vitamin B7 (Biotin)**:\n",
    "   - Biotin deficiency is linked to seborrheic dermatitis. Biotin is important for skin health, and low levels may lead to dry, flaky skin.\n",
    "\n",
    "4. **Vitamin C**:\n",
    "   - A deficiency in vitamin C can result in weakened skin structure due to poor collagen production, which may contribute to dermatitis and other skin problems.\n",
    "\n",
    "5. **Vitamin D**:\n",
    "   - Low levels of vitamin D have been associated with an increased risk of atopic dermatitis (eczema). Vitamin D helps regulate the immune system and inflammatory responses in the skin.\n",
    "\n",
    "Source:\n",
    "- **Borda, L. J., & Wikramanayake, T. C. (2015). Seborrheic Dermatitis and Dandruff: A Comprehensive Review. Journal of Clinical and Investigative Dermatology, 3(2), 10-12.**\n",
    "- **Jung, E. G. (1997). The Role of Vitamins in Dermatology. Clinical Dermatology, 15(3), 419-432.**"
   ]
  },
  {
   "cell_type": "markdown",
   "id": "085c17ac",
   "metadata": {
    "papermill": {
     "duration": 0.006138,
     "end_time": "2024-09-12T21:25:19.105865",
     "exception": false,
     "start_time": "2024-09-12T21:25:19.099727",
     "status": "completed"
    },
    "tags": []
   },
   "source": [
    "______________________________\n",
    "\n",
    "\n",
    "### 4. Hair Loss\n",
    "\n",
    "Vitamin deficiencies can contribute to **hair loss**. Here are some vitamins whose deficiencies are associated with various types of hair loss:\n",
    "\n",
    "1. **Vitamin D**:\n",
    "   - **Role**: Vitamin D is crucial for hair follicle health and growth. Deficiency may contribute to hair thinning and loss by disrupting the normal hair growth cycle.\n",
    "   - **Source**: Bergfeld, W. F., & Kaur, S. (2015). Vitamin D and Hair Loss. *Journal of the American Academy of Dermatology*, 72(4), 747-751.\n",
    "\n",
    "2. **Vitamin B12**:\n",
    "   - **Role**: Vitamin B12 is important for red blood cell production and maintaining healthy hair follicles. Deficiency can lead to hair loss due to impaired cell metabolism and reduced oxygen delivery to hair follicles.\n",
    "   - **Source**: Katta, R., & Desai, S. (2013). Vitamin Deficiencies and Hair Loss: A Review. *Dermatologic Therapy*, 26(5), 322-330.\n",
    "\n",
    "3. **Biotin (Vitamin B7)**:\n",
    "   - **Role**: Biotin is often associated with healthy hair growth. A deficiency can cause hair thinning and loss, as it plays a role in the synthesis of keratin, a protein important for hair structure.\n",
    "   - **Source**: Zempleni, J., & Rucker, R. B. (2005). Biotin. In: *Present Knowledge in Nutrition*, 10th edition, pp. 354-364.\n",
    "\n",
    "4. **Vitamin A**:\n",
    "   - **Role**: Vitamin A supports the health of skin cells, including those in the scalp. Both deficiency and excess can cause hair loss. Deficiency leads to dry and brittle hair, while excess can lead to toxicity and hair loss.\n",
    "   - **Source**: Maimon, A., & Grynberg, M. (2007). Vitamin A and Hair Growth. *Clinical Dermatology*, 25(1), 29-33.\n",
    "\n",
    "5. **Vitamin E**:\n",
    "   - **Role**: Vitamin E has antioxidant properties that help protect hair follicles from oxidative stress. A deficiency may contribute to hair loss, although its role is less direct compared to other vitamins.\n",
    "   - **Source**: McDaniel, D. H., & Levine, N. (2008). The Role of Vitamin E in Hair Health. *Journal of Dermatological Treatment*, 19(4), 251-257.\n",
    "\n",
    "Ensuring adequate intake of these vitamins can help maintain healthy hair growth and reduce the risk of hair loss associated with deficiencies."
   ]
  },
  {
   "cell_type": "code",
   "execution_count": 1,
   "id": "d279955b",
   "metadata": {
    "execution": {
     "iopub.execute_input": "2024-09-12T21:25:19.120319Z",
     "iopub.status.busy": "2024-09-12T21:25:19.119931Z",
     "iopub.status.idle": "2024-09-12T21:25:19.131255Z",
     "shell.execute_reply": "2024-09-12T21:25:19.130505Z"
    },
    "papermill": {
     "duration": 0.020793,
     "end_time": "2024-09-12T21:25:19.133104",
     "exception": false,
     "start_time": "2024-09-12T21:25:19.112311",
     "status": "completed"
    },
    "tags": []
   },
   "outputs": [],
   "source": [
    "n_classes=5\n",
    "classes=[\n",
    "    'Light Diseases and Disorders of Pigmentation',\n",
    "    'Acne and Rosacea Photos',\n",
    "    'Poison Ivy Photos and other Contact Dermatitis',     \n",
    "    'Atopic Dermatitis Photos',\n",
    "    'Hair Loss Photos Alopecia and other Hair Diseases',\n",
    "    'Actinic Keratosis Basal Cell Carcinoma and other Malignant Lesions',\n",
    "    'Bullous Disease Photos',\n",
    "    'Cellulitis Impetigo and other Bacterial Infections',\n",
    "    'Eczema Photos',\n",
    "    'Exanthems and Drug Eruptions',\n",
    "    'Herpes HPV and other STDs Photos',\n",
    "    'Lupus and other Connective Tissue diseases',\n",
    "    'Melanoma Skin Cancer Nevi and Moles',\n",
    "    'Nail Fungus and other Nail Disease',\n",
    "    'Psoriasis pictures Lichen Planus and related diseases',\n",
    "    'Scabies Lyme Disease and other Infestations and Bites',\n",
    "    'Seborrheic Keratoses and other Benign Tumors',\n",
    "    'Systemic Disease',\n",
    "    'Tinea Ringworm Candidiasis and other Fungal Infections',\n",
    "    'Urticaria Hives',\n",
    "    'Vascular Tumors',\n",
    "    'Vasculitis Photos',\n",
    "    'Warts Molluscum and other Viral Infections',\n",
    "\n",
    "]\n",
    "\n",
    "encoding_classes={\n",
    "    'Light Diseases and Disorders of Pigmentation':0,\n",
    "    'Acne and Rosacea Photos':1,\n",
    "    'Poison Ivy Photos and other Contact Dermatitis':2,\n",
    "    'Atopic Dermatitis Photos':3,\n",
    "    'Hair Loss Photos Alopecia and other Hair Diseases':4,\n",
    "}\n",
    "\n",
    "decoding_classes={\n",
    "    0:'Light Diseases and Disorders of Pigmentation',\n",
    "    1:'Acne and Rosacea Photos',\n",
    "    2:'Poison Ivy Photos and other Contact Dermatitis',\n",
    "    3:'Atopic Dermatitis Photos',\n",
    "    4:'Hair Loss Photos Alopecia and other Hair Diseases',\n",
    "}"
   ]
  },
  {
   "cell_type": "code",
   "execution_count": 2,
   "id": "2abe8dbf",
   "metadata": {
    "execution": {
     "iopub.execute_input": "2024-09-12T21:25:19.147678Z",
     "iopub.status.busy": "2024-09-12T21:25:19.147366Z",
     "iopub.status.idle": "2024-09-12T21:25:20.483601Z",
     "shell.execute_reply": "2024-09-12T21:25:20.482529Z"
    },
    "papermill": {
     "duration": 1.346008,
     "end_time": "2024-09-12T21:25:20.485695",
     "exception": false,
     "start_time": "2024-09-12T21:25:19.139687",
     "status": "completed"
    },
    "tags": []
   },
   "outputs": [
    {
     "data": {
      "text/html": [
       "<div>\n",
       "<style scoped>\n",
       "    .dataframe tbody tr th:only-of-type {\n",
       "        vertical-align: middle;\n",
       "    }\n",
       "\n",
       "    .dataframe tbody tr th {\n",
       "        vertical-align: top;\n",
       "    }\n",
       "\n",
       "    .dataframe thead th {\n",
       "        text-align: right;\n",
       "    }\n",
       "</style>\n",
       "<table border=\"1\" class=\"dataframe\">\n",
       "  <thead>\n",
       "    <tr style=\"text-align: right;\">\n",
       "      <th></th>\n",
       "      <th>path</th>\n",
       "      <th>class</th>\n",
       "    </tr>\n",
       "  </thead>\n",
       "  <tbody>\n",
       "    <tr>\n",
       "      <th>0</th>\n",
       "      <td>train\\Light Diseases and Disorders of Pigmenta...</td>\n",
       "      <td>Light Diseases and Disorders of Pigmentation</td>\n",
       "    </tr>\n",
       "    <tr>\n",
       "      <th>1</th>\n",
       "      <td>train\\Light Diseases and Disorders of Pigmenta...</td>\n",
       "      <td>Light Diseases and Disorders of Pigmentation</td>\n",
       "    </tr>\n",
       "    <tr>\n",
       "      <th>2</th>\n",
       "      <td>train\\Poison Ivy Photos and other Contact Derm...</td>\n",
       "      <td>Poison Ivy Photos and other Contact Dermatitis</td>\n",
       "    </tr>\n",
       "    <tr>\n",
       "      <th>3</th>\n",
       "      <td>train\\Atopic Dermatitis Photos\\10IMG002.jpg</td>\n",
       "      <td>Atopic Dermatitis Photos</td>\n",
       "    </tr>\n",
       "    <tr>\n",
       "      <th>4</th>\n",
       "      <td>train\\Atopic Dermatitis Photos\\03ichthyosis030...</td>\n",
       "      <td>Atopic Dermatitis Photos</td>\n",
       "    </tr>\n",
       "    <tr>\n",
       "      <th>...</th>\n",
       "      <td>...</td>\n",
       "      <td>...</td>\n",
       "    </tr>\n",
       "    <tr>\n",
       "      <th>2391</th>\n",
       "      <td>train\\Poison Ivy Photos and other Contact Derm...</td>\n",
       "      <td>Poison Ivy Photos and other Contact Dermatitis</td>\n",
       "    </tr>\n",
       "    <tr>\n",
       "      <th>2392</th>\n",
       "      <td>train\\Acne and Rosacea Photos\\milia-6.jpg</td>\n",
       "      <td>Acne and Rosacea Photos</td>\n",
       "    </tr>\n",
       "    <tr>\n",
       "      <th>2393</th>\n",
       "      <td>train\\Acne and Rosacea Photos\\perioral-dermati...</td>\n",
       "      <td>Acne and Rosacea Photos</td>\n",
       "    </tr>\n",
       "    <tr>\n",
       "      <th>2394</th>\n",
       "      <td>train\\Acne and Rosacea Photos\\rosacea-6.jpg</td>\n",
       "      <td>Acne and Rosacea Photos</td>\n",
       "    </tr>\n",
       "    <tr>\n",
       "      <th>2395</th>\n",
       "      <td>train\\Acne and Rosacea Photos\\acne-open-comedo...</td>\n",
       "      <td>Acne and Rosacea Photos</td>\n",
       "    </tr>\n",
       "  </tbody>\n",
       "</table>\n",
       "<p>2396 rows × 2 columns</p>\n",
       "</div>"
      ],
      "text/plain": [
       "                                                   path  \\\n",
       "0     train\\Light Diseases and Disorders of Pigmenta...   \n",
       "1     train\\Light Diseases and Disorders of Pigmenta...   \n",
       "2     train\\Poison Ivy Photos and other Contact Derm...   \n",
       "3           train\\Atopic Dermatitis Photos\\10IMG002.jpg   \n",
       "4     train\\Atopic Dermatitis Photos\\03ichthyosis030...   \n",
       "...                                                 ...   \n",
       "2391  train\\Poison Ivy Photos and other Contact Derm...   \n",
       "2392          train\\Acne and Rosacea Photos\\milia-6.jpg   \n",
       "2393  train\\Acne and Rosacea Photos\\perioral-dermati...   \n",
       "2394        train\\Acne and Rosacea Photos\\rosacea-6.jpg   \n",
       "2395  train\\Acne and Rosacea Photos\\acne-open-comedo...   \n",
       "\n",
       "                                               class  \n",
       "0       Light Diseases and Disorders of Pigmentation  \n",
       "1       Light Diseases and Disorders of Pigmentation  \n",
       "2     Poison Ivy Photos and other Contact Dermatitis  \n",
       "3                           Atopic Dermatitis Photos  \n",
       "4                           Atopic Dermatitis Photos  \n",
       "...                                              ...  \n",
       "2391  Poison Ivy Photos and other Contact Dermatitis  \n",
       "2392                         Acne and Rosacea Photos  \n",
       "2393                         Acne and Rosacea Photos  \n",
       "2394                         Acne and Rosacea Photos  \n",
       "2395                         Acne and Rosacea Photos  \n",
       "\n",
       "[2396 rows x 2 columns]"
      ]
     },
     "execution_count": 2,
     "metadata": {},
     "output_type": "execute_result"
    }
   ],
   "source": [
    "import os\n",
    "import pandas as pd\n",
    "\n",
    "train_dir = 'train'  # Ensure train_dir points to the correct directory\n",
    "\n",
    "dermnet_train_df = pd.DataFrame(columns=['path', 'class'])\n",
    "for y_class in classes:\n",
    "    # Use os.path.join to combine paths correctly\n",
    "    dir__ = os.path.join(train_dir, y_class)\n",
    "    imgs_dir = os.listdir(dir__)\n",
    "    imgs_dir = [os.path.join(dir__, img) for img in imgs_dir]  # Full paths for each image\n",
    "\n",
    "    # Create a DataFrame with paths and classes\n",
    "    df = pd.DataFrame({\n",
    "        'path': imgs_dir,\n",
    "        'class': y_class\n",
    "    })\n",
    "    dermnet_train_df = pd.concat([dermnet_train_df, df], axis=0).reset_index(drop=True)\n",
    "\n",
    "# Shuffle the DataFrame\n",
    "dermnet_train_df = dermnet_train_df.sample(frac=1, random_state=42).reset_index(drop=True)\n",
    "\n",
    "# Display the DataFrame\n",
    "dermnet_train_df\n"
   ]
  },
  {
   "cell_type": "code",
   "execution_count": 3,
   "id": "13a3131b",
   "metadata": {
    "execution": {
     "iopub.execute_input": "2024-09-12T21:25:20.501755Z",
     "iopub.status.busy": "2024-09-12T21:25:20.501055Z",
     "iopub.status.idle": "2024-09-12T21:25:20.701305Z",
     "shell.execute_reply": "2024-09-12T21:25:20.700258Z"
    },
    "papermill": {
     "duration": 0.210546,
     "end_time": "2024-09-12T21:25:20.703456",
     "exception": false,
     "start_time": "2024-09-12T21:25:20.492910",
     "status": "completed"
    },
    "tags": []
   },
   "outputs": [
    {
     "data": {
      "text/html": [
       "<div>\n",
       "<style scoped>\n",
       "    .dataframe tbody tr th:only-of-type {\n",
       "        vertical-align: middle;\n",
       "    }\n",
       "\n",
       "    .dataframe tbody tr th {\n",
       "        vertical-align: top;\n",
       "    }\n",
       "\n",
       "    .dataframe thead th {\n",
       "        text-align: right;\n",
       "    }\n",
       "</style>\n",
       "<table border=\"1\" class=\"dataframe\">\n",
       "  <thead>\n",
       "    <tr style=\"text-align: right;\">\n",
       "      <th></th>\n",
       "      <th>path</th>\n",
       "      <th>class</th>\n",
       "    </tr>\n",
       "  </thead>\n",
       "  <tbody>\n",
       "    <tr>\n",
       "      <th>0</th>\n",
       "      <td>test\\Poison Ivy Photos and other Contact Derma...</td>\n",
       "      <td>Poison Ivy Photos and other Contact Dermatitis</td>\n",
       "    </tr>\n",
       "    <tr>\n",
       "      <th>1</th>\n",
       "      <td>test\\Acne and Rosacea Photos\\acne-closed-comed...</td>\n",
       "      <td>Acne and Rosacea Photos</td>\n",
       "    </tr>\n",
       "    <tr>\n",
       "      <th>2</th>\n",
       "      <td>test\\Light Diseases and Disorders of Pigmentat...</td>\n",
       "      <td>Light Diseases and Disorders of Pigmentation</td>\n",
       "    </tr>\n",
       "    <tr>\n",
       "      <th>3</th>\n",
       "      <td>test\\Atopic Dermatitis Photos\\05KeratosisPilar...</td>\n",
       "      <td>Atopic Dermatitis Photos</td>\n",
       "    </tr>\n",
       "    <tr>\n",
       "      <th>4</th>\n",
       "      <td>test\\Atopic Dermatitis Photos\\3IMG006.jpg</td>\n",
       "      <td>Atopic Dermatitis Photos</td>\n",
       "    </tr>\n",
       "    <tr>\n",
       "      <th>...</th>\n",
       "      <td>...</td>\n",
       "      <td>...</td>\n",
       "    </tr>\n",
       "    <tr>\n",
       "      <th>698</th>\n",
       "      <td>test\\Light Diseases and Disorders of Pigmentat...</td>\n",
       "      <td>Light Diseases and Disorders of Pigmentation</td>\n",
       "    </tr>\n",
       "    <tr>\n",
       "      <th>699</th>\n",
       "      <td>test\\Light Diseases and Disorders of Pigmentat...</td>\n",
       "      <td>Light Diseases and Disorders of Pigmentation</td>\n",
       "    </tr>\n",
       "    <tr>\n",
       "      <th>700</th>\n",
       "      <td>test\\Acne and Rosacea Photos\\acne-pustular-7.jpg</td>\n",
       "      <td>Acne and Rosacea Photos</td>\n",
       "    </tr>\n",
       "    <tr>\n",
       "      <th>701</th>\n",
       "      <td>test\\Acne and Rosacea Photos\\rosacea-nose-33.jpg</td>\n",
       "      <td>Acne and Rosacea Photos</td>\n",
       "    </tr>\n",
       "    <tr>\n",
       "      <th>702</th>\n",
       "      <td>test\\Light Diseases and Disorders of Pigmentat...</td>\n",
       "      <td>Light Diseases and Disorders of Pigmentation</td>\n",
       "    </tr>\n",
       "  </tbody>\n",
       "</table>\n",
       "<p>703 rows × 2 columns</p>\n",
       "</div>"
      ],
      "text/plain": [
       "                                                  path  \\\n",
       "0    test\\Poison Ivy Photos and other Contact Derma...   \n",
       "1    test\\Acne and Rosacea Photos\\acne-closed-comed...   \n",
       "2    test\\Light Diseases and Disorders of Pigmentat...   \n",
       "3    test\\Atopic Dermatitis Photos\\05KeratosisPilar...   \n",
       "4            test\\Atopic Dermatitis Photos\\3IMG006.jpg   \n",
       "..                                                 ...   \n",
       "698  test\\Light Diseases and Disorders of Pigmentat...   \n",
       "699  test\\Light Diseases and Disorders of Pigmentat...   \n",
       "700   test\\Acne and Rosacea Photos\\acne-pustular-7.jpg   \n",
       "701   test\\Acne and Rosacea Photos\\rosacea-nose-33.jpg   \n",
       "702  test\\Light Diseases and Disorders of Pigmentat...   \n",
       "\n",
       "                                              class  \n",
       "0    Poison Ivy Photos and other Contact Dermatitis  \n",
       "1                           Acne and Rosacea Photos  \n",
       "2      Light Diseases and Disorders of Pigmentation  \n",
       "3                          Atopic Dermatitis Photos  \n",
       "4                          Atopic Dermatitis Photos  \n",
       "..                                              ...  \n",
       "698    Light Diseases and Disorders of Pigmentation  \n",
       "699    Light Diseases and Disorders of Pigmentation  \n",
       "700                         Acne and Rosacea Photos  \n",
       "701                         Acne and Rosacea Photos  \n",
       "702    Light Diseases and Disorders of Pigmentation  \n",
       "\n",
       "[703 rows x 2 columns]"
      ]
     },
     "execution_count": 3,
     "metadata": {},
     "output_type": "execute_result"
    }
   ],
   "source": [
    "import os\n",
    "import pandas as pd\n",
    "\n",
    "test_dir = 'test'  # Ensure test_dir points to the correct directory\n",
    "\n",
    "# Assuming classes is defined elsewhere or uncomment the following line to list classes in test_dir\n",
    "# classes = os.listdir(test_dir) \n",
    "\n",
    "dermnet_test_df = pd.DataFrame(columns=['path', 'class'])\n",
    "for y_class in classes:\n",
    "    # Use os.path.join to combine paths correctly\n",
    "    dir__ = os.path.join(test_dir, y_class)\n",
    "    imgs_dir = os.listdir(dir__)\n",
    "    imgs_dir = [os.path.join(dir__, img) for img in imgs_dir]  # Full paths for each image\n",
    "\n",
    "    # Create a DataFrame with paths and classes\n",
    "    df = pd.DataFrame({\n",
    "        'path': imgs_dir,\n",
    "        'class': y_class\n",
    "    })\n",
    "    dermnet_test_df = pd.concat([dermnet_test_df, df], axis=0).reset_index(drop=True)\n",
    "\n",
    "# Shuffle the DataFrame\n",
    "dermnet_test_df = dermnet_test_df.sample(frac=1, random_state=42).reset_index(drop=True)\n",
    "\n",
    "# Display the DataFrame\n",
    "dermnet_test_df\n"
   ]
  },
  {
   "cell_type": "code",
   "execution_count": null,
   "id": "458128e7",
   "metadata": {},
   "outputs": [],
   "source": [
    "combine taina nd test"
   ]
  },
  {
   "cell_type": "code",
   "execution_count": 4,
   "id": "7dacbeea",
   "metadata": {
    "execution": {
     "iopub.execute_input": "2024-09-12T21:25:20.718938Z",
     "iopub.status.busy": "2024-09-12T21:25:20.718581Z",
     "iopub.status.idle": "2024-09-12T21:25:20.726973Z",
     "shell.execute_reply": "2024-09-12T21:25:20.726026Z"
    },
    "papermill": {
     "duration": 0.018712,
     "end_time": "2024-09-12T21:25:20.729295",
     "exception": false,
     "start_time": "2024-09-12T21:25:20.710583",
     "status": "completed"
    },
    "tags": []
   },
   "outputs": [],
   "source": [
    "dermnet_train_df['class']=dermnet_train_df['class'].map(encoding_classes)\n",
    "dermnet_test_df['class']=dermnet_test_df['class'].map(encoding_classes)"
   ]
  },
  {
   "cell_type": "code",
   "execution_count": 5,
   "id": "30f8c113",
   "metadata": {
    "execution": {
     "iopub.execute_input": "2024-09-12T21:25:20.745484Z",
     "iopub.status.busy": "2024-09-12T21:25:20.745183Z",
     "iopub.status.idle": "2024-09-12T21:25:22.491279Z",
     "shell.execute_reply": "2024-09-12T21:25:22.490304Z"
    },
    "papermill": {
     "duration": 1.756382,
     "end_time": "2024-09-12T21:25:22.493353",
     "exception": false,
     "start_time": "2024-09-12T21:25:20.736971",
     "status": "completed"
    },
    "tags": []
   },
   "outputs": [
    {
     "data": {
      "image/png": "[encoded data removed]",
      "text/plain": [
       "<Figure size 640x480 with 2 Axes>"
      ]
     },
     "metadata": {},
     "output_type": "display_data"
    }
   ],
   "source": [
    "import matplotlib.pyplot as plt\n",
    "import seaborn as sns\n",
    "\n",
    "\n",
    "fig, ax = plt.subplots(1, 2, sharey=True)\n",
    "\n",
    "\n",
    "sns.countplot(x='class', data=dermnet_train_df, ax=ax[0])\n",
    "sns.countplot(x='class', data=dermnet_test_df, ax=ax[1])\n",
    "\n",
    "plt.show()"
   ]
  },
  {
   "cell_type": "code",
   "execution_count": 6,
   "id": "79546c72",
   "metadata": {
    "execution": {
     "iopub.execute_input": "2024-09-12T21:25:22.509788Z",
     "iopub.status.busy": "2024-09-12T21:25:22.509068Z",
     "iopub.status.idle": "2024-09-12T21:25:22.519734Z",
     "shell.execute_reply": "2024-09-12T21:25:22.518860Z"
    },
    "papermill": {
     "duration": 0.021045,
     "end_time": "2024-09-12T21:25:22.521800",
     "exception": false,
     "start_time": "2024-09-12T21:25:22.500755",
     "status": "completed"
    },
    "tags": []
   },
   "outputs": [
    {
     "data": {
      "text/html": [
       "<div>\n",
       "<style scoped>\n",
       "    .dataframe tbody tr th:only-of-type {\n",
       "        vertical-align: middle;\n",
       "    }\n",
       "\n",
       "    .dataframe tbody tr th {\n",
       "        vertical-align: top;\n",
       "    }\n",
       "\n",
       "    .dataframe thead th {\n",
       "        text-align: right;\n",
       "    }\n",
       "</style>\n",
       "<table border=\"1\" class=\"dataframe\">\n",
       "  <thead>\n",
       "    <tr style=\"text-align: right;\">\n",
       "      <th></th>\n",
       "      <th>path</th>\n",
       "      <th>class</th>\n",
       "    </tr>\n",
       "  </thead>\n",
       "  <tbody>\n",
       "    <tr>\n",
       "      <th>0</th>\n",
       "      <td>train\\Light Diseases and Disorders of Pigmenta...</td>\n",
       "      <td>0</td>\n",
       "    </tr>\n",
       "    <tr>\n",
       "      <th>1</th>\n",
       "      <td>train\\Light Diseases and Disorders of Pigmenta...</td>\n",
       "      <td>0</td>\n",
       "    </tr>\n",
       "    <tr>\n",
       "      <th>2</th>\n",
       "      <td>train\\Poison Ivy Photos and other Contact Derm...</td>\n",
       "      <td>2</td>\n",
       "    </tr>\n",
       "    <tr>\n",
       "      <th>3</th>\n",
       "      <td>train\\Atopic Dermatitis Photos\\10IMG002.jpg</td>\n",
       "      <td>3</td>\n",
       "    </tr>\n",
       "    <tr>\n",
       "      <th>4</th>\n",
       "      <td>train\\Atopic Dermatitis Photos\\03ichthyosis030...</td>\n",
       "      <td>3</td>\n",
       "    </tr>\n",
       "    <tr>\n",
       "      <th>...</th>\n",
       "      <td>...</td>\n",
       "      <td>...</td>\n",
       "    </tr>\n",
       "    <tr>\n",
       "      <th>2391</th>\n",
       "      <td>train\\Poison Ivy Photos and other Contact Derm...</td>\n",
       "      <td>2</td>\n",
       "    </tr>\n",
       "    <tr>\n",
       "      <th>2392</th>\n",
       "      <td>train\\Acne and Rosacea Photos\\milia-6.jpg</td>\n",
       "      <td>1</td>\n",
       "    </tr>\n",
       "    <tr>\n",
       "      <th>2393</th>\n",
       "      <td>train\\Acne and Rosacea Photos\\perioral-dermati...</td>\n",
       "      <td>1</td>\n",
       "    </tr>\n",
       "    <tr>\n",
       "      <th>2394</th>\n",
       "      <td>train\\Acne and Rosacea Photos\\rosacea-6.jpg</td>\n",
       "      <td>1</td>\n",
       "    </tr>\n",
       "    <tr>\n",
       "      <th>2395</th>\n",
       "      <td>train\\Acne and Rosacea Photos\\acne-open-comedo...</td>\n",
       "      <td>1</td>\n",
       "    </tr>\n",
       "  </tbody>\n",
       "</table>\n",
       "<p>2396 rows × 2 columns</p>\n",
       "</div>"
      ],
      "text/plain": [
       "                                                   path  class\n",
       "0     train\\Light Diseases and Disorders of Pigmenta...      0\n",
       "1     train\\Light Diseases and Disorders of Pigmenta...      0\n",
       "2     train\\Poison Ivy Photos and other Contact Derm...      2\n",
       "3           train\\Atopic Dermatitis Photos\\10IMG002.jpg      3\n",
       "4     train\\Atopic Dermatitis Photos\\03ichthyosis030...      3\n",
       "...                                                 ...    ...\n",
       "2391  train\\Poison Ivy Photos and other Contact Derm...      2\n",
       "2392          train\\Acne and Rosacea Photos\\milia-6.jpg      1\n",
       "2393  train\\Acne and Rosacea Photos\\perioral-dermati...      1\n",
       "2394        train\\Acne and Rosacea Photos\\rosacea-6.jpg      1\n",
       "2395  train\\Acne and Rosacea Photos\\acne-open-comedo...      1\n",
       "\n",
       "[2396 rows x 2 columns]"
      ]
     },
     "execution_count": 6,
     "metadata": {},
     "output_type": "execute_result"
    }
   ],
   "source": [
    "dermnet_train_df"
   ]
  },
  {
   "cell_type": "code",
   "execution_count": 6,
   "id": "bc567172",
   "metadata": {
    "execution": {
     "iopub.execute_input": "2024-09-12T21:25:22.539420Z",
     "iopub.status.busy": "2024-09-12T21:25:22.538706Z",
     "iopub.status.idle": "2024-09-12T21:25:27.568009Z",
     "shell.execute_reply": "2024-09-12T21:25:27.567074Z"
    },
    "papermill": {
     "duration": 5.040094,
     "end_time": "2024-09-12T21:25:27.570189",
     "exception": false,
     "start_time": "2024-09-12T21:25:22.530095",
     "status": "completed"
    },
    "tags": []
   },
   "outputs": [
    {
     "data": {
      "text/html": [
       "<div>\n",
       "<style scoped>\n",
       "    .dataframe tbody tr th:only-of-type {\n",
       "        vertical-align: middle;\n",
       "    }\n",
       "\n",
       "    .dataframe tbody tr th {\n",
       "        vertical-align: top;\n",
       "    }\n",
       "\n",
       "    .dataframe thead th {\n",
       "        text-align: right;\n",
       "    }\n",
       "</style>\n",
       "<table border=\"1\" class=\"dataframe\">\n",
       "  <thead>\n",
       "    <tr style=\"text-align: right;\">\n",
       "      <th></th>\n",
       "      <th>path</th>\n",
       "      <th>class</th>\n",
       "    </tr>\n",
       "  </thead>\n",
       "  <tbody>\n",
       "    <tr>\n",
       "      <th>0</th>\n",
       "      <td>train\\Light Diseases and Disorders of Pigmenta...</td>\n",
       "      <td>0</td>\n",
       "    </tr>\n",
       "    <tr>\n",
       "      <th>1</th>\n",
       "      <td>train\\Light Diseases and Disorders of Pigmenta...</td>\n",
       "      <td>0</td>\n",
       "    </tr>\n",
       "    <tr>\n",
       "      <th>2</th>\n",
       "      <td>train\\Poison Ivy Photos and other Contact Derm...</td>\n",
       "      <td>2</td>\n",
       "    </tr>\n",
       "    <tr>\n",
       "      <th>3</th>\n",
       "      <td>train\\Atopic Dermatitis Photos\\10IMG002.jpg</td>\n",
       "      <td>3</td>\n",
       "    </tr>\n",
       "  </tbody>\n",
       "</table>\n",
       "</div>"
      ],
      "text/plain": [
       "                                                path  class\n",
       "0  train\\Light Diseases and Disorders of Pigmenta...      0\n",
       "1  train\\Light Diseases and Disorders of Pigmenta...      0\n",
       "2  train\\Poison Ivy Photos and other Contact Derm...      2\n",
       "3        train\\Atopic Dermatitis Photos\\10IMG002.jpg      3"
      ]
     },
     "execution_count": 6,
     "metadata": {},
     "output_type": "execute_result"
    }
   ],
   "source": [
    "import torch\n",
    "from torch.utils.data import Dataset\n",
    "import torch.nn.functional as F\n",
    "import torchvision\n",
    "from PIL import Image\n",
    "\n",
    "class DermnetDataset(Dataset):\n",
    "    def __init__(self, imgs_cv,transform=None):\n",
    "        self.imgs_cv = imgs_cv\n",
    "        self.transform = transform\n",
    "        \n",
    "        classes = torch.tensor(imgs_cv['class'])\n",
    "        self.labels = F.one_hot(classes)\n",
    "        self.labels=torch.Tensor(self.labels).float()\n",
    "        \n",
    "    def __len__(self):\n",
    "        return self.imgs_cv.shape[0]\n",
    "        \n",
    "    def __getitem__(self, idx):\n",
    "        img = Image.open(self.imgs_cv.loc[idx, 'path'])\n",
    "        img = img.resize((256, 256))\n",
    "        if self.transform:\n",
    "            img = self.transform(img)\n",
    "            \n",
    "        return img, self.labels[idx]\n",
    "        \n",
    "        \n",
    "        \n",
    "ds = DermnetDataset(dermnet_train_df)\n",
    "ds.imgs_cv.head(4)"
   ]
  },
  {
   "cell_type": "code",
   "execution_count": 7,
   "id": "6c3a51f1",
   "metadata": {
    "execution": {
     "iopub.execute_input": "2024-09-12T21:25:27.588057Z",
     "iopub.status.busy": "2024-09-12T21:25:27.587089Z",
     "iopub.status.idle": "2024-09-12T21:25:27.679599Z",
     "shell.execute_reply": "2024-09-12T21:25:27.678693Z"
    },
    "papermill": {
     "duration": 0.104661,
     "end_time": "2024-09-12T21:25:27.682792",
     "exception": false,
     "start_time": "2024-09-12T21:25:27.578131",
     "status": "completed"
    },
    "tags": []
   },
   "outputs": [
    {
     "name": "stdout",
     "output_type": "stream",
     "text": [
      "tensor([0., 1., 0., 0., 0.])\n",
      "['Acne and Rosacea Photos']\n"
     ]
    },
    {
     "data": {
      "image/jpeg": "[encoded data removed]",
      "image/png": "[encoded data removed]",
      "text/plain": [
       "<PIL.Image.Image image mode=RGB size=256x256>"
      ]
     },
     "execution_count": 7,
     "metadata": {},
     "output_type": "execute_result"
    }
   ],
   "source": [
    "import numpy as np\n",
    "img, label = ds.__getitem__(200)\n",
    "\n",
    "print(label)\n",
    "print(np.array(classes)[label.bool()])\n",
    "img"
   ]
  },
  {
   "cell_type": "code",
   "execution_count": 8,
   "id": "b1c36384",
   "metadata": {
    "execution": {
     "iopub.execute_input": "2024-09-12T21:25:27.703563Z",
     "iopub.status.busy": "2024-09-12T21:25:27.702804Z",
     "iopub.status.idle": "2024-09-12T21:25:27.785534Z",
     "shell.execute_reply": "2024-09-12T21:25:27.784712Z"
    },
    "papermill": {
     "duration": 0.095317,
     "end_time": "2024-09-12T21:25:27.787828",
     "exception": false,
     "start_time": "2024-09-12T21:25:27.692511",
     "status": "completed"
    },
    "tags": []
   },
   "outputs": [],
   "source": [
    "from torchvision.transforms import v2\n",
    "\n",
    "train_transform = v2.Compose(\n",
    "[\n",
    "  v2.PILToTensor(),\n",
    "  v2.RandomHorizontalFlip(p = 0.5),\n",
    "  v2.RandomVerticalFlip(p = 0.5),  \n",
    "  v2.RandomResizedCrop(size = [256, 256], antialias = True),  \n",
    "  v2.ToDtype(torch.float32, scale = True),\n",
    "]\n",
    ")\n",
    "\n",
    "val_transform = v2.Compose(\n",
    "[\n",
    "  v2.PILToTensor(),\n",
    "  v2.ToDtype(torch.float32, scale = True),\n",
    "]\n",
    ")\n",
    "\n",
    "\n",
    "train_dataset = DermnetDataset(dermnet_train_df, transform=train_transform)\n",
    "test_dataset = DermnetDataset(dermnet_test_df, transform=val_transform)"
   ]
  },
  {
   "cell_type": "code",
   "execution_count": 9,
   "id": "43e5af08",
   "metadata": {
    "execution": {
     "iopub.execute_input": "2024-09-12T21:25:27.807861Z",
     "iopub.status.busy": "2024-09-12T21:25:27.807534Z",
     "iopub.status.idle": "2024-09-12T21:25:27.812565Z",
     "shell.execute_reply": "2024-09-12T21:25:27.811673Z"
    },
    "papermill": {
     "duration": 0.017052,
     "end_time": "2024-09-12T21:25:27.814403",
     "exception": false,
     "start_time": "2024-09-12T21:25:27.797351",
     "status": "completed"
    },
    "tags": []
   },
   "outputs": [],
   "source": [
    "from torch.utils.data import DataLoader\n",
    "\n",
    "train_dataloader = DataLoader(train_dataset, batch_size=64, shuffle=True)\n",
    "test_dataloader = DataLoader(test_dataset, batch_size=64, shuffle=False)"
   ]
  },
  {
   "cell_type": "code",
   "execution_count": 10,
   "id": "cd00a1d9",
   "metadata": {
    "execution": {
     "iopub.execute_input": "2024-09-12T21:25:27.834301Z",
     "iopub.status.busy": "2024-09-12T21:25:27.833970Z",
     "iopub.status.idle": "2024-09-12T21:25:27.920385Z",
     "shell.execute_reply": "2024-09-12T21:25:27.919450Z"
    },
    "papermill": {
     "duration": 0.098744,
     "end_time": "2024-09-12T21:25:27.922363",
     "exception": false,
     "start_time": "2024-09-12T21:25:27.823619",
     "status": "completed"
    },
    "tags": []
   },
   "outputs": [
    {
     "data": {
      "text/plain": [
       "device(type='cpu')"
      ]
     },
     "execution_count": 10,
     "metadata": {},
     "output_type": "execute_result"
    }
   ],
   "source": [
    "device = torch.device(\"cuda\" if torch.cuda.is_available() else \"cpu\")\n",
    "device"
   ]
  },
  {
   "cell_type": "code",
   "execution_count": 11,
   "id": "31205ed2",
   "metadata": {
    "execution": {
     "iopub.execute_input": "2024-09-12T21:25:27.943317Z",
     "iopub.status.busy": "2024-09-12T21:25:27.942937Z",
     "iopub.status.idle": "2024-09-12T21:25:29.364637Z",
     "shell.execute_reply": "2024-09-12T21:25:29.363537Z"
    },
    "papermill": {
     "duration": 1.434646,
     "end_time": "2024-09-12T21:25:29.367026",
     "exception": false,
     "start_time": "2024-09-12T21:25:27.932380",
     "status": "completed"
    },
    "tags": []
   },
   "outputs": [
    {
     "name": "stderr",
     "output_type": "stream",
     "text": [
      "C:\\Users\\Pavan Rai\\AppData\\Roaming\\Python\\Python310\\site-packages\\torchvision\\models\\_utils.py:223: UserWarning: Arguments other than a weight enum or `None` for 'weights' are deprecated since 0.13 and may be removed in the future. The current behavior is equivalent to passing `weights=ResNet50_Weights.IMAGENET1K_V1`. You can also use `weights=ResNet50_Weights.DEFAULT` to get the most up-to-date weights.\n",
      "  warnings.warn(msg)\n"
     ]
    }
   ],
   "source": [
    "import torch\n",
    "import torchvision.models as models\n",
    "import torch.nn as nn\n",
    "\n",
    "\n",
    "model = models.resnet50(weights=models.ResNet50_Weights)\n",
    "model.fc = nn.Linear(model.fc.in_features, n_classes)\n",
    "\n",
    "\n",
    "model.to(device)\n",
    "\n",
    "num_epochs = 40\n",
    "lr = 0.001\n",
    "\n",
    "criterion = nn.CrossEntropyLoss()\n",
    "optimizer = torch.optim.Adam([p for p in model.parameters() if p.requires_grad], lr = lr)\n",
    "\n",
    "scheduler = torch.optim.lr_scheduler.ReduceLROnPlateau(optimizer, mode='min', factor=0.1, patience=3)"
   ]
  },
  {
   "cell_type": "code",
   "execution_count": 13,
   "id": "e5d86519",
   "metadata": {
    "execution": {
     "iopub.execute_input": "2024-09-12T21:25:29.389402Z",
     "iopub.status.busy": "2024-09-12T21:25:29.388697Z",
     "iopub.status.idle": "2024-09-12T21:25:29.397067Z",
     "shell.execute_reply": "2024-09-12T21:25:29.396196Z"
    },
    "papermill": {
     "duration": 0.021556,
     "end_time": "2024-09-12T21:25:29.398990",
     "exception": false,
     "start_time": "2024-09-12T21:25:29.377434",
     "status": "completed"
    },
    "tags": []
   },
   "outputs": [],
   "source": [
    "def train_epoch():\n",
    "    epoch_loss = 0\n",
    "    correct_predictions = 0\n",
    "    total_predictions = 0\n",
    "    \n",
    "    model.train()  # Set the model to training mode\n",
    "    \n",
    "    for i, (images, labels) in enumerate(train_dataloader):\n",
    "        images = images.to(device)\n",
    "        labels = labels.to(device)\n",
    "        \n",
    "        # Forward pass\n",
    "        out = model(images)\n",
    "        loss = criterion(out, labels)\n",
    "        epoch_loss += loss.item()\n",
    "        \n",
    "        # Calculate accuracy\n",
    "        _, y_true = torch.max(labels, 1)  #from one-hot encode to ordinal\n",
    "        _, preds = torch.max(out, 1)  # Get the predicted class (with the highest score)\n",
    "        correct_predictions += (preds == y_true).sum().item()  # Count correct predictions\n",
    "        total_predictions += labels.size(0)  # Total number of labels in the batch\n",
    "        \n",
    "        # Backward pass\n",
    "        optimizer.zero_grad()\n",
    "        loss.backward()\n",
    "        optimizer.step()\n",
    "        \n",
    "        if i % 10 == 0:\n",
    "            print(f\"   step[{i+1} / {len(train_dataloader)}]\")\n",
    "    \n",
    "    # Compute average loss and accuracy for the epoch\n",
    "    epoch_loss /= len(train_dataloader)\n",
    "    accuracy = correct_predictions / total_predictions * 100  # Convert to percentage\n",
    "        \n",
    "    return epoch_loss, accuracy\n"
   ]
  },
  {
   "cell_type": "code",
   "execution_count": 14,
   "id": "f3ad0a9d",
   "metadata": {
    "execution": {
     "iopub.execute_input": "2024-09-12T21:25:29.421787Z",
     "iopub.status.busy": "2024-09-12T21:25:29.421466Z",
     "iopub.status.idle": "2024-09-12T21:25:29.429297Z",
     "shell.execute_reply": "2024-09-12T21:25:29.428379Z"
    },
    "papermill": {
     "duration": 0.021272,
     "end_time": "2024-09-12T21:25:29.431232",
     "exception": false,
     "start_time": "2024-09-12T21:25:29.409960",
     "status": "completed"
    },
    "tags": []
   },
   "outputs": [],
   "source": [
    "def val_epoch():\n",
    "    epoch_loss = 0\n",
    "    correct_predictions = 0\n",
    "    total_predictions = 0\n",
    "    \n",
    "    model.eval()  # Set the model to evaluation mode (disables dropout, etc.)\n",
    "    \n",
    "    with torch.no_grad():  # Disable gradient calculations\n",
    "        for i, (images, labels) in enumerate(test_dataloader):\n",
    "            images = images.to(device)\n",
    "            labels = labels.to(device)\n",
    "            \n",
    "            # Forward pass\n",
    "            out = model(images)\n",
    "            loss = criterion(out, labels)\n",
    "            epoch_loss += loss.item()\n",
    "            \n",
    "            # Calculate accuracy\n",
    "            _, y_true = torch.max(labels, 1)  #from one-hot encode to ordinal\n",
    "            _, preds = torch.max(out, 1)  # Get the predicted class\n",
    "            correct_predictions += (preds == y_true).sum().item()\n",
    "            total_predictions += labels.size(0)\n",
    "    \n",
    "    # Compute average loss and accuracy\n",
    "    epoch_loss /= len(test_dataloader)\n",
    "    accuracy = correct_predictions / total_predictions * 100  # Convert to percentage\n",
    "        \n",
    "    return epoch_loss, accuracy\n"
   ]
  },
  {
   "cell_type": "code",
   "execution_count": 15,
   "id": "25ccdac9",
   "metadata": {
    "execution": {
     "iopub.execute_input": "2024-09-12T21:25:29.453194Z",
     "iopub.status.busy": "2024-09-12T21:25:29.452498Z",
     "iopub.status.idle": "2024-09-12T21:25:29.462992Z",
     "shell.execute_reply": "2024-09-12T21:25:29.462027Z"
    },
    "papermill": {
     "duration": 0.023785,
     "end_time": "2024-09-12T21:25:29.464976",
     "exception": false,
     "start_time": "2024-09-12T21:25:29.441191",
     "status": "completed"
    },
    "tags": []
   },
   "outputs": [],
   "source": [
    "def train_model(num_epochs, model, train_dataloader, test_dataloader, optimizer, scheduler, criterion, device):\n",
    "    best_score = float('inf')  # Initialize best score to a large number\n",
    "    tol = 0  # Tolerance counter for early stopping\n",
    "    \n",
    "    train_losses = []\n",
    "    val_losses = []\n",
    "    train_accuracies = []\n",
    "    val_accuracies = []\n",
    "\n",
    "    for epoch in range(num_epochs):\n",
    "        print(f\"Epoch {epoch + 1}:\")\n",
    "        \n",
    "        # Train the model\n",
    "        model.train(True)\n",
    "        avg_train_epoch_loss, train_accuracy = train_epoch()\n",
    "        \n",
    "        # Evaluate the model on validation data\n",
    "        model.eval()\n",
    "        avg_val_epoch_loss, val_accuracy = val_epoch()\n",
    "        \n",
    "        # Update the learning rate scheduler based on validation loss\n",
    "        scheduler.step(avg_val_epoch_loss)\n",
    "        \n",
    "        # Save the best model based on validation loss\n",
    "        if avg_val_epoch_loss < best_score:\n",
    "            best_score = avg_val_epoch_loss\n",
    "            torch.save(model.state_dict(), \"best_model.pth\")\n",
    "            tol = 0\n",
    "        else:\n",
    "            tol += 1\n",
    "            if tol == 7:\n",
    "                print(\"Early stopping triggered.\")\n",
    "                break\n",
    "\n",
    "        # Record the losses and accuracies\n",
    "        train_losses.append(avg_train_epoch_loss)\n",
    "        val_losses.append(avg_val_epoch_loss)\n",
    "        train_accuracies.append(train_accuracy)\n",
    "        val_accuracies.append(val_accuracy)\n",
    "        \n",
    "        print(f\"Epoch {epoch + 1} -- Avg Train Loss: {avg_train_epoch_loss:.4f}, Train Accuracy: {train_accuracy:.2f}%\")\n",
    "        print(f\"Epoch {epoch + 1} -- Avg Val Loss: {avg_val_epoch_loss:.4f}, Val Accuracy: {val_accuracy:.2f}%\")\n",
    "        print(\"_\" * 100)\n",
    "    \n",
    "    return {\n",
    "        \"train_losses\": train_losses,\n",
    "        \"val_losses\": val_losses,\n",
    "        \"train_accuracies\": train_accuracies,\n",
    "        \"val_accuracies\": val_accuracies\n",
    "    }"
   ]
  },
  {
   "cell_type": "code",
   "execution_count": 17,
   "id": "d9950c34",
   "metadata": {
    "execution": {
     "iopub.execute_input": "2024-09-12T21:53:48.863056Z",
     "iopub.status.busy": "2024-09-12T21:53:48.862700Z",
     "iopub.status.idle": "2024-09-12T21:53:48.870754Z",
     "shell.execute_reply": "2024-09-12T21:53:48.869846Z"
    },
    "papermill": {
     "duration": 0.036353,
     "end_time": "2024-09-12T21:53:48.872593",
     "exception": false,
     "start_time": "2024-09-12T21:53:48.836240",
     "status": "completed"
    },
    "tags": []
   },
   "outputs": [],
   "source": [
    "def plot_history(history):\n",
    "    acc = history['train_accuracies']\n",
    "    val_acc = history['val_accuracies']\n",
    "\n",
    "    loss = history['train_losses']\n",
    "    val_loss = history['val_losses']\n",
    "    \n",
    "    fig, ax = plt.subplots(2, 1, figsize = (8, 10))\n",
    "\n",
    "    epochs = range(1, len(acc) + 1)\n",
    "    ax[0].plot(epochs, acc, '--', label='Training acc')\n",
    "    ax[0].plot(epochs, val_acc, label='Validation acc')\n",
    "    ax[0].set_title('Training and validation accuracy')\n",
    "    ax[0].set_ylim([0.0, 100.0])\n",
    "    ax[0].legend()\n",
    "\n",
    "    ax[1].plot(epochs, loss, '--', label='Training loss')\n",
    "    ax[1].plot(epochs, val_loss, label='Validation loss')\n",
    "    ax[1].set_title('Training and validation loss')\n",
    "    ax[1].legend()\n",
    "    \n",
    "    plt.show()"
   ]
  },
  {
   "cell_type": "code",
   "execution_count": 18,
   "id": "03d3bc3b",
   "metadata": {
    "execution": {
     "iopub.execute_input": "2024-09-12T21:53:48.923644Z",
     "iopub.status.busy": "2024-09-12T21:53:48.923316Z",
     "iopub.status.idle": "2024-09-12T21:53:49.387036Z",
     "shell.execute_reply": "2024-09-12T21:53:49.386106Z"
    },
    "papermill": {
     "duration": 0.492195,
     "end_time": "2024-09-12T21:53:49.389539",
     "exception": false,
     "start_time": "2024-09-12T21:53:48.897344",
     "status": "completed"
    },
    "tags": []
   },
   "outputs": [
    {
     "data": {
      "image/png": "[encoded data removed]",
      "text/plain": [
       "<Figure size 800x1000 with 2 Axes>"
      ]
     },
     "metadata": {},
     "output_type": "display_data"
    }
   ],
   "source": [
    "plot_history(history)"
   ]
  },
  {
   "cell_type": "code",
   "execution_count": null,
   "id": "9b9563fa",
   "metadata": {},
   "outputs": [],
   "source": []
  }
 ],
 "metadata": {
  "kaggle": {
   "accelerator": "nvidiaTeslaT4",
   "dataSources": [
    {
     "datasetId": 735911,
     "sourceId": 1276317,
     "sourceType": "datasetVersion"
    }
   ],
   "dockerImageVersionId": 30761,
   "isGpuEnabled": true,
   "isInternetEnabled": true,
   "language": "python",
   "sourceType": "notebook"
  },
  "kernelspec": {
   "display_name": "Python 3",
   "language": "python",
   "name": "python3"
  },
  "language_info": {
   "codemirror_mode": {
    "name": "ipython",
    "version": 3
   },
   "file_extension": ".py",
   "mimetype": "text/x-python",
   "name": "python",
   "nbconvert_exporter": "python",
   "pygments_lexer": "ipython3",
   "version": "3.10.0"
  },
  "papermill": {
   "default_parameters": {},
   "duration": 1715.367322,
   "end_time": "2024-09-12T21:53:51.668603",
   "environment_variables": {},
   "exception": null,
   "input_path": "__notebook__.ipynb",
   "output_path": "__notebook__.ipynb",
   "parameters": {},
   "start_time": "2024-09-12T21:25:16.301281",
   "version": "2.6.0"
  }
 },
 "nbformat": 4,
 "nbformat_minor": 5
}
